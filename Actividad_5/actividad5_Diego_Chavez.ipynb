{
 "cells": [
  {
   "cell_type": "markdown",
   "id": "0e5d58de",
   "metadata": {},
   "source": [
    "# **BootCamp DS - 20243**\n",
    "## **Actividad 5**\n",
    "### **Presentado por:** Diego Chávez"
   ]
  },
  {
   "cell_type": "markdown",
   "id": "96a59233",
   "metadata": {},
   "source": [
    "### Contexto: \n",
    "En esta actividad veremos el cargue de la base de datos que he venido trabajando, a postgreSQL en localhost, adicional se ejecutan 3 consultas básicas con la finalidad de probar la conexión. Además, se siguen buenas prácticas compartidas en el curso, agregar credenciales en un .env para mantener la privacidad y seguridad de los datos."
   ]
  },
  {
   "cell_type": "code",
   "execution_count": 3,
   "id": "ebf747e2",
   "metadata": {},
   "outputs": [],
   "source": [
    "# Importamos librerías\n",
    "import os\n",
    "import pandas as pd\n",
    "from sqlalchemy import create_engine, text\n",
    "from dotenv import load_dotenv\n",
    "import psycopg2"
   ]
  },
  {
   "cell_type": "code",
   "execution_count": 4,
   "id": "c5aafc02",
   "metadata": {},
   "outputs": [
    {
     "name": "stdout",
     "output_type": "stream",
     "text": [
      "DB user:  postgres Puerto:  5432 DB name:  bdVentasRayo\n"
     ]
    }
   ],
   "source": [
    "# Cargamos las variables de conexión almacenadas en el .env e imprimimos algunas para ver su funcionalidad\n",
    "load_dotenv()\n",
    "\n",
    "DB_USER = os.getenv(\"DB_USER\")\n",
    "DB_PASSWORD = os.getenv(\"DB_PASSWORD\")\n",
    "DB_HOST = os.getenv(\"DB_HOST\")\n",
    "DB_PORT = os.getenv(\"DB_PORT\")\n",
    "DB_NAME = os.getenv(\"DB_NAME\")\n",
    "EXCEL_FILE_PATH = os.getenv(\"EXCEL_FILE_PATH\")\n",
    "TABLE_NAME = os.getenv(\"TABLE_NAME\")\n",
    "\n",
    "if DB_PORT is not None:\n",
    "    DB_PORT = int(DB_PORT)\n",
    "    \n",
    "print(\"DB user: \", DB_USER, \"Puerto: \", DB_PORT, \"DB name: \", DB_NAME)\n"
   ]
  },
  {
   "cell_type": "code",
   "execution_count": 5,
   "id": "eec4c551",
   "metadata": {},
   "outputs": [],
   "source": [
    "#creamos la conexión con los parámetros a la BD\n",
    "engine = create_engine(f\"postgresql+psycopg2://{DB_USER}:{DB_PASSWORD}@{DB_HOST}:{DB_PORT}/{DB_NAME}\")"
   ]
  },
  {
   "cell_type": "code",
   "execution_count": 6,
   "id": "e20127fb",
   "metadata": {},
   "outputs": [],
   "source": [
    "#leemos el archivo con pandas\n",
    "df = pd.read_excel(EXCEL_FILE_PATH)"
   ]
  },
  {
   "cell_type": "code",
   "execution_count": 7,
   "id": "3228c19a",
   "metadata": {},
   "outputs": [
    {
     "data": {
      "text/plain": [
       "Index(['tipo', 'numero_documento', 'referido_por', 'estado_desembolso',\n",
       "       'desembolso_realizado_contabilidad', 'nombre_completo',\n",
       "       'fecha_formalizacion', 'fecha_deposito', 'salario_reportado',\n",
       "       'codigo_prestamo', 'monto_bruto_prestado', 'listo_para_desembolso',\n",
       "       'plazo', 'status_inicial', 'desembolso_realizado', 'tecnologia',\n",
       "       'administracion_monto', 'iva', 'intereses', 'total_pagar_despues',\n",
       "       'total_pagar_con_tyc', 'sumatoria_intereses_mora',\n",
       "       'saldo_con_intereses_mora', 'total_pagar_con_gac', 'tipo_cuenta',\n",
       "       'banco', 'ejecutivo', 'prestamos_firmados', 'fecha_creacion',\n",
       "       'estado_prestamo', 'fecha_procesamiento', 'fecha_hora_procesamiento',\n",
       "       'venta_ejecutivo', 'fianza_iva', 'tasa_interes', 'tasa_mora'],\n",
       "      dtype='object')"
      ]
     },
     "execution_count": 7,
     "metadata": {},
     "output_type": "execute_result"
    }
   ],
   "source": [
    "# vemos sus columnas\n",
    "df.columns"
   ]
  },
  {
   "cell_type": "code",
   "execution_count": 8,
   "id": "d4503494",
   "metadata": {},
   "outputs": [],
   "source": [
    "# definimos la estrucctura que tendrá nuestra tabla\n",
    "columnas_sql = \"\"\"\n",
    "CREATE TABLE IF NOT EXISTS tb_prestamos (\n",
    "    tipo VARCHAR(50),\n",
    "    numero_documento VARCHAR(20),\n",
    "    referido_por VARCHAR(120),\n",
    "    estado_desembolso VARCHAR(50),\n",
    "    desembolso_realizado_contabilidad BOOLEAN,\n",
    "    nombre_completo VARCHAR(255),\n",
    "    fecha_formalizacion DATE,\n",
    "    fecha_deposito DATE,\n",
    "    salario_reportado NUMERIC(15,2),\n",
    "    codigo_prestamo VARCHAR(50) PRIMARY KEY,\n",
    "    monto_bruto_prestado NUMERIC(15,2),\n",
    "    listo_para_desembolso BOOLEAN,\n",
    "    plazo VARCHAR(20),\n",
    "    status_inicial VARCHAR(50),\n",
    "    desembolso_realizado BOOLEAN,\n",
    "    tecnologia NUMERIC(15,2),\n",
    "    administracion_monto NUMERIC(15,2),\n",
    "    iva NUMERIC(15,2),\n",
    "    intereses NUMERIC(15,2),\n",
    "    total_pagar_despues NUMERIC(15,2),\n",
    "    total_pagar_con_tyc NUMERIC(15,2),\n",
    "    sumatoria_intereses_mora NUMERIC(15,2),\n",
    "    saldo_con_intereses_mora NUMERIC(15,2),\n",
    "    total_pagar_con_gac NUMERIC(15,2),\n",
    "    tipo_cuenta VARCHAR(50),\n",
    "    banco VARCHAR(100),\n",
    "    ejecutivo VARCHAR(100),\n",
    "    prestamos_firmados INT,\n",
    "    fecha_creacion DATE,\n",
    "    estado_prestamo VARCHAR(50),\n",
    "    fecha_procesamiento DATE,\n",
    "    fecha_hora_procesamiento TIMESTAMP,\n",
    "    venta_ejecutivo VARCHAR(50),\n",
    "    fianza_iva NUMERIC(15,2),\n",
    "    tasa_interes NUMERIC(5,2),\n",
    "    tasa_mora NUMERIC(5,2)\n",
    ");\n",
    "\"\"\".format(TABLE_NAME)\n"
   ]
  },
  {
   "cell_type": "code",
   "execution_count": 9,
   "id": "d47c6557",
   "metadata": {},
   "outputs": [
    {
     "name": "stdout",
     "output_type": "stream",
     "text": [
      "La tabla 'tb_ventas' ha sido creada y los datos fueron insertados.\n"
     ]
    }
   ],
   "source": [
    "# creamos la conexión y cargamos los datos del df a la base, si existe los reemplazamos\n",
    "with engine.begin() as conn:\n",
    "    conn.execute(text(columnas_sql))\n",
    "\n",
    "\n",
    "df.to_sql(TABLE_NAME, engine, if_exists=\"replace\", index=False)\n",
    "\n",
    "\n",
    "print(f\"La tabla '{TABLE_NAME}' ha sido creada y los datos fueron insertados.\")"
   ]
  },
  {
   "cell_type": "code",
   "execution_count": 10,
   "id": "efffb829",
   "metadata": {},
   "outputs": [
    {
     "name": "stdout",
     "output_type": "stream",
     "text": [
      "------- Primer Consulta -------\n",
      "('MINI', '8505346', '0', 'Desembolso Rechazado', 0, 'Jose Luis Ardila', datetime.datetime(2024, 6, 14, 0, 0), datetime.datetime(2024, 6, 14, 0, 0), 2317399.92, 'O-295356', 150000, 0, '15 días', 'Aprobado', 0, 35250.0, 0, 6697.5, 1658.0, 193605.5, 202530.5, 0.0, 193605.5, 193605.5, 'Cuenta de Ahorros', 'BANCOLOMBIA', None, 3.0, datetime.datetime(2024, 6, 14, 0, 0), 'Rechazado', datetime.datetime(2024, 6, 14, 0, 0), datetime.datetime(2024, 6, 14, 16, 18), None, 8925.0, 0.3083, 0.3083)\n",
      "------- Segunda Consulta -------\n",
      "Total de registros: 315472\n",
      "------- Tercera Consulta -------\n",
      "Total de ventas: 2380850008\n"
     ]
    }
   ],
   "source": [
    "# Creamos nuestras tres consultas con el objeto conn\n",
    "print(\"------- Primer Consulta -------\")\n",
    "conn = engine.connect()\n",
    "result = conn.execute(text(\"SELECT * FROM tb_ventas LIMIT 1\"))\n",
    "for row in result:\n",
    "    print(row)\n",
    "\n",
    "print(\"------- Segunda Consulta -------\")\n",
    "count_result = conn.execute(text(\"SELECT COUNT(*) FROM tb_ventas\"))\n",
    "print(f\"Total de registros: {count_result.scalar()}\")\n",
    "\n",
    "print(\"------- Tercera Consulta -------\")\n",
    "result_2 = conn.execute(text(\"SELECT SUM(monto_bruto_prestado) FROM tb_ventas WHERE tipo = 'PLP' \"))\n",
    "total_ventas = result_2.scalar()\n",
    "print(f\"Total de ventas: {total_ventas}\")\n",
    "\n",
    "conn.close()  # Cierra la conexión manualmente"
   ]
  }
 ],
 "metadata": {
  "kernelspec": {
   "display_name": "Python 3 (ipykernel)",
   "language": "python",
   "name": "python3"
  },
  "language_info": {
   "codemirror_mode": {
    "name": "ipython",
    "version": 3
   },
   "file_extension": ".py",
   "mimetype": "text/x-python",
   "name": "python",
   "nbconvert_exporter": "python",
   "pygments_lexer": "ipython3",
   "version": "3.9.12"
  }
 },
 "nbformat": 4,
 "nbformat_minor": 5
}
