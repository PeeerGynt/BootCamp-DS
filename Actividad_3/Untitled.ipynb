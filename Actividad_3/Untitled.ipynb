{
 "cells": [
  {
   "cell_type": "code",
   "execution_count": 2,
   "id": "76f50b66",
   "metadata": {},
   "outputs": [],
   "source": [
    "# importamos la librerías\n",
    "import pandas as pd\n",
    "import numpy as np\n",
    "import os"
   ]
  },
  {
   "cell_type": "code",
   "execution_count": 3,
   "id": "e5d7d357",
   "metadata": {},
   "outputs": [],
   "source": [
    "dataset = pd.read_excel(r\"C:/Users/Diego Chavez/Desktop/BIT/BootCamp/BD.xlsx\")"
   ]
  },
  {
   "cell_type": "code",
   "execution_count": 5,
   "id": "d864c23e",
   "metadata": {},
   "outputs": [
    {
     "data": {
      "text/plain": [
       "TIPO                                                  object\n",
       "Número de Documento                                   object\n",
       "REFERIDO POR                                          object\n",
       "Estado Desembolso                                     object\n",
       "Desembolso realizado Contabilidad                      int64\n",
       "Cliente: Nombre completo                              object\n",
       "Fecha de formalización                        datetime64[ns]\n",
       "Fecha del Depósito                            datetime64[ns]\n",
       "Salario Reportado del cliente                        float64\n",
       "Código Préstamo                                       object\n",
       "Monto Bruto Prestado                                   int64\n",
       "Listo para Desembolso                                  int64\n",
       "Plazo                                                 object\n",
       "Status Inicial                                        object\n",
       "Desembolso Realizado                                   int64\n",
       "Tecnología                                           float64\n",
       "Administración sobre monto solicitado                  int64\n",
       "IVA                                                  float64\n",
       "Intereses                                            float64\n",
       "Total a pagar despues del desembolso                 float64\n",
       "Total a pagar con TYC                                float64\n",
       "Sumatoria de Intereses de Mora                       float64\n",
       "Saldo con intereses de mora                          float64\n",
       "Total a pagar con GAC                                float64\n",
       "Tipo de Cuenta                                        object\n",
       "Banco                                                 object\n",
       "Ejecutivo                                             object\n",
       "Cliente: #PrestamosFirmadosCartera                   float64\n",
       "Fecha de creación                             datetime64[ns]\n",
       "Estado de Préstamo                                    object\n",
       "Fecha de procesamiento del desembolso         datetime64[ns]\n",
       "Fecha Hora de procesamiento del desembolso    datetime64[ns]\n",
       "Venta de ejecutivo                                    object\n",
       "Fianza+IVA                                           float64\n",
       "Tasa interes                                          object\n",
       "Tasa mora                                             object\n",
       "GENERO                                               float64\n",
       "FECHA DE NACIMIENTO                                  float64\n",
       "Profesion u Ocupacion                                float64\n",
       "UBICACIÓN                                            float64\n",
       "RIFM                                                 float64\n",
       "INFLACIÓN                                            float64\n",
       "FGA                                                  float64\n",
       "CASA DE COBRANZA                                     float64\n",
       "dtype: object"
      ]
     },
     "execution_count": 5,
     "metadata": {},
     "output_type": "execute_result"
    }
   ],
   "source": [
    "dataset.dtypes"
   ]
  },
  {
   "cell_type": "code",
   "execution_count": null,
   "id": "eaf31436",
   "metadata": {},
   "outputs": [
    {
     "name": "stdout",
     "output_type": "stream",
     "text": [
      "       Desembolso realizado Contabilidad  Salario Reportado del cliente  \\\n",
      "count                      315472.000000                   3.154720e+05   \n",
      "mean                            0.987019                   3.513493e+06   \n",
      "std                             0.113191                   2.685574e+06   \n",
      "min                             0.000000                   0.000000e+00   \n",
      "25%                             1.000000                   2.120000e+06   \n",
      "50%                             1.000000                   2.850000e+06   \n",
      "75%                             1.000000                   3.991000e+06   \n",
      "max                             1.000000                   5.764040e+07   \n",
      "\n",
      "       Monto Bruto Prestado  Listo para Desembolso  Desembolso Realizado  \\\n",
      "count          3.154720e+05          315472.000000         315472.000000   \n",
      "mean           3.224529e+05               0.987235              0.991977   \n",
      "std            1.934224e+05               0.112259              0.089211   \n",
      "min            0.000000e+00               0.000000              0.000000   \n",
      "25%            2.000000e+05               1.000000              1.000000   \n",
      "50%            2.750000e+05               1.000000              1.000000   \n",
      "75%            4.000000e+05               1.000000              1.000000   \n",
      "max            2.500000e+06               1.000000              1.000000   \n",
      "\n",
      "         Tecnología  Administración sobre monto solicitado            IVA  \\\n",
      "count  3.154720e+05                          315472.000000  315472.000000   \n",
      "mean   7.714081e+04                           10088.176025   16573.516965   \n",
      "std    5.906258e+04                           25325.652228   11295.710520   \n",
      "min    0.000000e+00                               0.000000       0.000000   \n",
      "25%    4.500000e+04                               0.000000   10568.750000   \n",
      "50%    6.375000e+04                               0.000000   13680.000000   \n",
      "75%    9.500000e+04                               0.000000   19950.000000   \n",
      "max    1.450000e+06                          625000.000000  275500.000000   \n",
      "\n",
      "           Intereses  Total a pagar despues del desembolso  ...  \\\n",
      "count  315472.000000                          3.154720e+05  ...   \n",
      "mean     7594.404188                          4.193448e+05  ...   \n",
      "std      9531.810906                          2.531832e+05  ...   \n",
      "min         0.000000                          1.785000e+04  ...   \n",
      "25%      3109.000000                          2.512712e+05  ...   \n",
      "50%      5440.000000                          3.505052e+05  ...   \n",
      "75%      9326.000000                          5.138285e+05  ...   \n",
      "max    250000.000000                          4.475500e+06  ...   \n",
      "\n",
      "       Cliente: #PrestamosFirmadosCartera     Fianza+IVA  GENERO  \\\n",
      "count                       314371.000000  315428.000000     0.0   \n",
      "mean                             6.394658   15009.318012     NaN   \n",
      "std                              5.439008   10763.244009     NaN   \n",
      "min                              0.000000       0.000000     NaN   \n",
      "25%                              3.000000    8925.000000     NaN   \n",
      "50%                              5.000000   13388.000000     NaN   \n",
      "75%                              8.000000   19635.000000     NaN   \n",
      "max                             59.000000  148750.000000     NaN   \n",
      "\n",
      "       FECHA DE NACIMIENTO  Profesion u Ocupacion  UBICACIÓN   RIFM  \\\n",
      "count                  0.0                    0.0         0.0   0.0   \n",
      "mean                   NaN                    NaN         NaN   NaN   \n",
      "std                    NaN                    NaN         NaN   NaN   \n",
      "min                    NaN                    NaN         NaN   NaN   \n",
      "25%                    NaN                    NaN         NaN   NaN   \n",
      "50%                    NaN                    NaN         NaN   NaN   \n",
      "75%                    NaN                    NaN         NaN   NaN   \n",
      "max                    NaN                    NaN         NaN   NaN   \n",
      "\n",
      "       INFLACIÓN  FGA  CASA DE COBRANZA  \n",
      "count        0.0  0.0               0.0  \n",
      "mean         NaN  NaN               NaN  \n",
      "std          NaN  NaN               NaN  \n",
      "min          NaN  NaN               NaN  \n",
      "25%          NaN  NaN               NaN  \n",
      "50%          NaN  NaN               NaN  \n",
      "75%          NaN  NaN               NaN  \n",
      "max          NaN  NaN               NaN  \n",
      "\n",
      "[8 rows x 24 columns]\n"
     ]
    },
    {
     "data": {
      "image/png": "[encoded data removed]",
      "text/plain": [
       "<Figure size 576x432 with 1 Axes>"
      ]
     },
     "metadata": {
      "needs_background": "light"
     },
     "output_type": "display_data"
    }
   ],
   "source": [
    "import pandas as pd\n",
    "import seaborn as sns\n",
    "import matplotlib.pyplot as plt\n",
    "\n",
    "# Resumen numérico básico\n",
    "print(dataset.describe())\n",
    "\n",
    "# Visualización univariada: Histograma\n",
    "plt.figure(figsize=(8, 6))\n",
    "sns.histplot(dataset['Monto Bruto Prestado'], kde=True, color='skyblue')\n",
    "plt.title('Distribución de Ventas')\n",
    "plt.xlabel('Ventas')\n",
    "plt.ylabel('Frecuencia')\n",
    "plt.show()\n",
    "\n",
    "# Visualización bivariada: Gráfico de dispersión\n",
    "plt.figure(figsize=(8, 6))\n",
    "sns.scatterplot(data=dataset, x='Monto Bruto Prestado', y='Código Préstamo', hue='TIPO', palette='viridis')\n",
    "plt.title('Relación entre Precio y Ventas por Categoría')\n",
    "plt.xlabel('Precio')\n",
    "plt.ylabel('Ventas')\n",
    "plt.show()\n",
    "\n",
    "# Visualización trivariada: Burbujas\n",
    "plt.figure(figsize=(8, 6))\n",
    "sns.scatterplot(data=dataset, x='Monto Bruto Prestado', y='Código Préstamo', size='Salario Reportado del cliente', hue='TIPO', sizes=(20, 200), palette='cool')\n",
    "plt.title('Relación Precio, Ventas e Ingresos por Categoría')\n",
    "plt.xlabel('Precio')\n",
    "plt.ylabel('Ventas')\n",
    "plt.legend(bbox_to_anchor=(1, 1))\n",
    "plt.show()\n"
   ]
  }
 ],
 "metadata": {
  "kernelspec": {
   "display_name": "Python 3 (ipykernel)",
   "language": "python",
   "name": "python3"
  },
  "language_info": {
   "codemirror_mode": {
    "name": "ipython",
    "version": 3
   },
   "file_extension": ".py",
   "mimetype": "text/x-python",
   "name": "python",
   "nbconvert_exporter": "python",
   "pygments_lexer": "ipython3",
   "version": "3.9.12"
  }
 },
 "nbformat": 4,
 "nbformat_minor": 5
}
